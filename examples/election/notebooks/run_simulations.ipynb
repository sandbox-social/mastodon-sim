{
 "cells": [
  {
   "cell_type": "code",
   "execution_count": 1,
   "metadata": {},
   "outputs": [
    {
     "data": {
      "text/plain": [
       "'/mnt/c/Users/maxpu/Dropbox/scripts/Projects/socialsandbox/mastodon-sim'"
      ]
     },
     "execution_count": 1,
     "metadata": {},
     "output_type": "execute_result"
    }
   ],
   "source": [
    "pwd"
   ]
  },
  {
   "cell_type": "code",
   "execution_count": 5,
   "metadata": {},
   "outputs": [],
   "source": [
    "# import os.chdir('examples/election')\n",
    "import itertools"
   ]
  },
  {
   "cell_type": "code",
   "execution_count": 6,
   "metadata": {},
   "outputs": [],
   "source": [
    "def write_commands(config):\n",
    "    # Generate all combinations of argument values\n",
    "    all_combinations = itertools.product(*config['paras'].values())\n",
    "    # Open the file to write the commands\n",
    "    file_name = f\"examples/election/output/{config['name']}_commands.txt\"\n",
    "    with open(file_name, 'w') as file:\n",
    "        for combination in all_combinations:\n",
    "            command = \"python examples/election/src/election_sim/main.py \" + ' '.join([f\"--{key} {value}\" for key,value in zip(config['paras'].keys(),combination)])\n",
    "            file.write(command + '\\n')\n",
    "    print(f\"Commands written to {file_name}\")"
   ]
  },
  {
   "cell_type": "markdown",
   "metadata": {},
   "source": [
    "Specify experiment. E.g. by the values of the input parameters (take all combinations)"
   ]
  },
  {
   "cell_type": "code",
   "execution_count": 7,
   "metadata": {},
   "outputs": [
    {
     "name": "stdout",
     "output_type": "stream",
     "text": [
      "Commands written to examples/election/output/name_and_trait_variation_for_SOLAR_commands.txt\n"
     ]
    }
   ],
   "source": [
    "exp_batch_dict ={\n",
    "    \"name\": \"name_and_trait_variation_for_SOLAR\",\n",
    "    \"paras\": {\n",
    "        'name': ['independent','bias',\"malicious\"],\n",
    "        'tt':  ['Schwartz', 'Big5']\n",
    "    }\n",
    "}\n",
    "write_commands(exp_batch_dict)"
   ]
  },
  {
   "cell_type": "markdown",
   "metadata": {},
   "source": [
    "Now run those commands"
   ]
  },
  {
   "cell_type": "code",
   "execution_count": null,
   "metadata": {},
   "outputs": [],
   "source": [
    "We have two Mastodon servers to work over."
   ]
  }
 ],
 "metadata": {
  "kernelspec": {
   "display_name": "Python 3 (ipykernel)",
   "language": "python",
   "name": "python3"
  },
  "language_info": {
   "codemirror_mode": {
    "name": "ipython",
    "version": 3
   },
   "file_extension": ".py",
   "mimetype": "text/x-python",
   "name": "python",
   "nbconvert_exporter": "python",
   "pygments_lexer": "ipython3",
   "version": "3.11.0"
  }
 },
 "nbformat": 4,
 "nbformat_minor": 2
}
